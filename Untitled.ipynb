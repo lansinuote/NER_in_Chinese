{
 "cells": [
  {
   "cell_type": "code",
   "execution_count": 1,
   "id": "a888fc7f",
   "metadata": {},
   "outputs": [
    {
     "data": {
      "text/plain": [
       "('4.43.3', '2.20.0', '1.13.1+cu117')"
      ]
     },
     "execution_count": 1,
     "metadata": {},
     "output_type": "execute_result"
    }
   ],
   "source": [
    "import transformers\n",
    "import datasets\n",
    "import torch\n",
    "\n",
    "transformers.__version__, datasets.__version__, torch.__version__"
   ]
  }
 ],
 "metadata": {
  "kernelspec": {
   "display_name": "Python [conda env:cuda117]",
   "language": "python",
   "name": "conda-env-cuda117-py"
  },
  "language_info": {
   "codemirror_mode": {
    "name": "ipython",
    "version": 3
   },
   "file_extension": ".py",
   "mimetype": "text/x-python",
   "name": "python",
   "nbconvert_exporter": "python",
   "pygments_lexer": "ipython3",
   "version": "3.10.13"
  }
 },
 "nbformat": 4,
 "nbformat_minor": 5
}
